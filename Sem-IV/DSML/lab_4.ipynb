{
  "nbformat": 4,
  "nbformat_minor": 0,
  "metadata": {
    "colab": {
      "provenance": []
    },
    "kernelspec": {
      "name": "python3",
      "display_name": "Python 3"
    },
    "language_info": {
      "name": "python"
    }
  },
  "cells": [
    {
      "cell_type": "code",
      "execution_count": null,
      "metadata": {
        "id": "ByPZ4kuWgJvO"
      },
      "outputs": [],
      "source": [
        "import numpy as np\n"
      ]
    },
    {
      "cell_type": "code",
      "source": [
        "points = np.array([[0.1, 0.6],\n",
        "                   [0.15, 0.71],\n",
        "                   [0.08, 0.9],\n",
        "                   [0.16, 0.85],\n",
        "                   [0.2, 0.3],\n",
        "                   [0.25, 0.5],\n",
        "                   [0.24, 0.1],\n",
        "                   [0.3, 0.2]])"
      ],
      "metadata": {
        "id": "ts_9WomIgUBk"
      },
      "execution_count": null,
      "outputs": []
    },
    {
      "cell_type": "code",
      "source": [
        "m1 = points[0]"
      ],
      "metadata": {
        "id": "y2rwqKL-gZX0"
      },
      "execution_count": null,
      "outputs": []
    },
    {
      "cell_type": "code",
      "source": [
        "m2 = points[7]"
      ],
      "metadata": {
        "id": "rFNnfTDzgb91"
      },
      "execution_count": null,
      "outputs": []
    },
    {
      "cell_type": "code",
      "source": [
        "def euclidean_distance(p1, p2):\n",
        "    return np.sqrt(np.sum((p1 - p2)**2))"
      ],
      "metadata": {
        "id": "kHVOkdHfgc1j"
      },
      "execution_count": null,
      "outputs": []
    },
    {
      "cell_type": "code",
      "source": [
        "def k_means(points, m1, m2, num_iterations=100):\n",
        "    for _ in range(num_iterations):\n",
        "        cluster1 = []\n",
        "        cluster2 = []\n",
        "        for point in points:\n",
        "            distance_to_m1 = euclidean_distance(point, m1)\n",
        "            distance_to_m2 = euclidean_distance(point, m2)\n",
        "            if distance_to_m1 < distance_to_m2:\n",
        "                cluster1.append(point)\n",
        "            else:\n",
        "                cluster2.append(point)\n",
        "\n",
        "        # Update centroids\n",
        "        m1 = np.mean(cluster1, axis=0)\n",
        "        m2 = np.mean(cluster2, axis=0)\n",
        "\n",
        "    return cluster1, cluster2, m1, m2"
      ],
      "metadata": {
        "id": "5X98Kn-7ggcj"
      },
      "execution_count": null,
      "outputs": []
    },
    {
      "cell_type": "code",
      "source": [
        "cluster1, cluster2, m1, m2 = k_means(points, m1, m2)\n"
      ],
      "metadata": {
        "id": "_cXuIvoFgx56"
      },
      "execution_count": null,
      "outputs": []
    },
    {
      "cell_type": "code",
      "source": [
        "p6 = np.array([0.25, 0.5])\n",
        "distance_to_m1 = euclidean_distance(p6, m1)\n",
        "distance_to_m2 = euclidean_distance(p6, m2)\n",
        "if distance_to_m1 < distance_to_m2:\n",
        "    cluster_of_p6 = \"C1\"\n",
        "else:\n",
        "    cluster_of_p6 = \"C2\""
      ],
      "metadata": {
        "id": "flq7e8CDg2O2"
      },
      "execution_count": null,
      "outputs": []
    },
    {
      "cell_type": "code",
      "source": [
        "population_of_cluster2 = len(cluster2)\n"
      ],
      "metadata": {
        "id": "irtHPdBng5Sd"
      },
      "execution_count": null,
      "outputs": []
    },
    {
      "cell_type": "code",
      "source": [
        "updated_m1 = m1\n",
        "updated_m2 = m2"
      ],
      "metadata": {
        "id": "paq0bX1xg7Y_"
      },
      "execution_count": null,
      "outputs": []
    },
    {
      "cell_type": "code",
      "source": [
        "print(\"a) P6 belongs to cluster:\", cluster_of_p6)\n",
        "print(\"b) Population of cluster around m2:\", population_of_cluster2)\n",
        "print(\"c) Updated value of m1:\", updated_m1)\n",
        "print(\"   Updated value of m2:\", updated_m2)"
      ],
      "metadata": {
        "colab": {
          "base_uri": "https://localhost:8080/"
        },
        "id": "dFWs1fr3g-Js",
        "outputId": "f15cbdf6-a111-4590-9d73-3897a2d3422e"
      },
      "execution_count": null,
      "outputs": [
        {
          "output_type": "stream",
          "name": "stdout",
          "text": [
            "a) P6 belongs to cluster: C1\n",
            "b) Population of cluster around m2: 3\n",
            "c) Updated value of m1: [0.148 0.712]\n",
            "   Updated value of m2: [0.24666667 0.2       ]\n"
          ]
        }
      ]
    },
    {
      "cell_type": "code",
      "source": [],
      "metadata": {
        "id": "Ga7quepghA9j"
      },
      "execution_count": null,
      "outputs": []
    }
  ]
}