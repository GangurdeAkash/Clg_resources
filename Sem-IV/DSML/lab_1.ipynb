{
  "nbformat": 4,
  "nbformat_minor": 0,
  "metadata": {
    "colab": {
      "provenance": []
    },
    "kernelspec": {
      "name": "python3",
      "display_name": "Python 3"
    },
    "language_info": {
      "name": "python"
    }
  },
  "cells": [
    {
      "cell_type": "code",
      "execution_count": null,
      "metadata": {
        "id": "VoknrT73B6Ud"
      },
      "outputs": [],
      "source": [
        "# 1. Perform the following operations using R/Python on suitable data sets:\n",
        "# a) read data from different formats (like csv, xls)\n",
        "# b) indexing and selecting data, sort data,\n",
        "# c) describe attributes of data, checking data types of each column,\n",
        "# d) counting unique values of data, format of each column, converting variable data type (e.g.\n",
        "  #  from long to short, vice versa),\n",
        "# e) identifying missing values and fill in the missing values"
      ]
    },
    {
      "cell_type": "code",
      "source": [
        "import pandas as pd\n",
        "data = pd.read_csv(\"Mall_Customers.csv\")"
      ],
      "metadata": {
        "id": "aYfXbwLCDiIo"
      },
      "execution_count": null,
      "outputs": []
    },
    {
      "cell_type": "code",
      "source": [
        "#SELECTING\n",
        "s_data = data ['Age']\n",
        "selected_data = data.head()\n",
        "# print(selected_data.head())\n",
        "print(s_data)"
      ],
      "metadata": {
        "colab": {
          "base_uri": "https://localhost:8080/"
        },
        "id": "BOaasVGoGqcY",
        "outputId": "a5428d18-1c71-4380-a66d-64ea72e065c0"
      },
      "execution_count": null,
      "outputs": [
        {
          "output_type": "stream",
          "name": "stdout",
          "text": [
            "0      19\n",
            "1      21\n",
            "2      20\n",
            "3      23\n",
            "4      31\n",
            "       ..\n",
            "195    35\n",
            "196    45\n",
            "197    32\n",
            "198    32\n",
            "199    30\n",
            "Name: Age, Length: 200, dtype: int64\n"
          ]
        }
      ]
    },
    {
      "cell_type": "code",
      "source": [
        "#SORTING\n",
        "sr_data = data.sort_values(by='Age')\n",
        "sorted_data = sr_data.head()\n",
        "print(sorted_data)\n"
      ],
      "metadata": {
        "colab": {
          "base_uri": "https://localhost:8080/"
        },
        "id": "QT6QZ1FiL3CY",
        "outputId": "86abda3e-76c1-4016-e364-d410298a8567"
      },
      "execution_count": null,
      "outputs": [
        {
          "output_type": "stream",
          "name": "stdout",
          "text": [
            "     CustomerID   Genre  Age  Annual Income (k$)  Spending Score (1-100)\n",
            "114         115  Female   18                  65                      48\n",
            "91           92    Male   18                  59                      41\n",
            "65           66    Male   18                  48                      59\n",
            "33           34    Male   18                  33                      92\n",
            "0             1    Male   19                  15                      39\n"
          ]
        }
      ]
    },
    {
      "cell_type": "code",
      "source": [
        "# c) describe attributes of data, checking data types of each column,\n",
        "describe = data.describe()\n",
        "print(describe)"
      ],
      "metadata": {
        "colab": {
          "base_uri": "https://localhost:8080/"
        },
        "id": "RUaAfNRpPxEf",
        "outputId": "49971a72-8a39-4db1-98c6-5c251063b692"
      },
      "execution_count": null,
      "outputs": [
        {
          "output_type": "stream",
          "name": "stdout",
          "text": [
            "CustomerID                 int64\n",
            "Genre                     object\n",
            "Age                        int64\n",
            "Annual Income (k$)         int64\n",
            "Spending Score (1-100)     int64\n",
            "dtype: object\n"
          ]
        }
      ]
    },
    {
      "cell_type": "code",
      "source": [
        "# d) counting unique values of data,\n",
        "dtypes = data.dtypes\n",
        "print(dtypes)"
      ],
      "metadata": {
        "colab": {
          "base_uri": "https://localhost:8080/"
        },
        "id": "SVHoivU-SY6m",
        "outputId": "c8e5101f-51a8-4059-cf3f-714f302a37e0"
      },
      "execution_count": null,
      "outputs": [
        {
          "output_type": "stream",
          "name": "stdout",
          "text": [
            "CustomerID                 int64\n",
            "Genre                     object\n",
            "Age                        int64\n",
            "Annual Income (k$)         int64\n",
            "Spending Score (1-100)     int64\n",
            "dtype: object\n"
          ]
        }
      ]
    },
    {
      "cell_type": "code",
      "source": [
        "# e) identifying missing values and fill in the missing values\n",
        "cols = data.columns.tolist()\n",
        "u_count = [data[col].nunique() for col in cols]\n",
        "print(u_count)"
      ],
      "metadata": {
        "colab": {
          "base_uri": "https://localhost:8080/"
        },
        "id": "fCsKlydqSoEE",
        "outputId": "ab0a0330-7700-434c-b4fc-b0d070dd490a"
      },
      "execution_count": null,
      "outputs": [
        {
          "output_type": "stream",
          "name": "stdout",
          "text": [
            "[200, 2, 51, 64, 84]\n"
          ]
        }
      ]
    },
    {
      "cell_type": "code",
      "source": [
        "print([data[\"CustomerID\"].nunique()])"
      ],
      "metadata": {
        "colab": {
          "base_uri": "https://localhost:8080/"
        },
        "id": "HvNTXP6TUDku",
        "outputId": "c1ddf2bb-2eec-49a9-dc81-55ba0e6ec3e1"
      },
      "execution_count": null,
      "outputs": [
        {
          "output_type": "stream",
          "name": "stdout",
          "text": [
            "[200]\n"
          ]
        }
      ]
    },
    {
      "cell_type": "code",
      "source": [
        "m_count = data.isnull().sum()\n",
        "f_data = data.fillna(value='0')\n",
        "print(m_count)"
      ],
      "metadata": {
        "colab": {
          "base_uri": "https://localhost:8080/"
        },
        "id": "8yi4QKSqUV7X",
        "outputId": "a9bb3dda-c4f7-4af5-f8a3-4d01d36cc276"
      },
      "execution_count": null,
      "outputs": [
        {
          "output_type": "stream",
          "name": "stdout",
          "text": [
            "CustomerID                0\n",
            "Genre                     0\n",
            "Age                       0\n",
            "Annual Income (k$)        0\n",
            "Spending Score (1-100)    0\n",
            "dtype: int64\n"
          ]
        }
      ]
    }
  ]
}